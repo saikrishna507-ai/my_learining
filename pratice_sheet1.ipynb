{
 "cells": [
  {
   "cell_type": "markdown",
   "id": "3b8cca09-5dd9-4101-91ae-ae6f41590537",
   "metadata": {},
   "source": [
    "Perfect bro 🔥 — you want **100 basic coding logic questions** that you can practice directly in **Jupyter Notebook** (using Python).\n",
    "I got you covered 💻\n",
    "\n",
    "Here’s a clean, ready-to-use **list of 100 beginner–intermediate coding questions** — all focused on **variables, conditions, loops, and logic building**.\n",
    "\n",
    "---\n",
    "\n",
    "## 🧠 **100 Python Coding Practice Questions (for Jupyter Notebook)**\n",
    "\n",
    "### 🧩 **Part 1 – Variables & Basic Input/Output (Q1–Q15)**\n",
    "\n",
    "1. Create a variable `name` and print a greeting.\n",
    "2. Ask for the user’s age and print it.\n",
    "3. Store two numbers and print their sum.\n",
    "4. Find the average of three numbers.\n",
    "5. Swap two numbers without using a third variable.\n",
    "6. Find the area of a rectangle.\n",
    "7. Find the area of a triangle.\n",
    "8. Convert Celsius to Fahrenheit.\n",
    "9. Calculate the simple interest.\n",
    "10. Calculate the compound interest.\n",
    "11. Convert kilometers to miles.\n",
    "12. Convert minutes to hours and minutes.\n",
    "13. Find the square and cube of a number.\n",
    "14. Take radius as input and find area & circumference of a circle.\n",
    "15. Take a number and print its square root.\n",
    "\n",
    "---\n"
   ]
  },
  {
   "cell_type": "markdown",
   "id": "375edbf8-058c-4048-bdc5-70e50eeeacc4",
   "metadata": {},
   "source": [
    "##  Answers"
   ]
  },
  {
   "cell_type": "code",
   "execution_count": 6,
   "id": "4ef7abf8-93ee-4b9f-9609-13e272765c93",
   "metadata": {},
   "outputs": [
    {
     "name": "stdout",
     "output_type": "stream",
     "text": [
      "hello sai welcome to coding \n"
     ]
    }
   ],
   "source": [
    "#1.\n",
    "name = 'sai'\n",
    "print( 'hello ' + name+' welcome to coding '\n",
    "    )"
   ]
  },
  {
   "cell_type": "code",
   "execution_count": 11,
   "id": "dfe1ccee-e8ad-44d8-8588-7538381a57d6",
   "metadata": {},
   "outputs": [
    {
     "name": "stdout",
     "output_type": "stream",
     "text": [
      "Hello Ram Welcome to world of coding\n"
     ]
    }
   ],
   "source": [
    "name = \"Ram\"\n",
    "print( 'Hello ' + name+' Welcome to world of coding'\n",
    "    )"
   ]
  },
  {
   "cell_type": "code",
   "execution_count": 1,
   "id": "71f61c8a-6fe2-4c5c-a0dd-2f723d694f1c",
   "metadata": {},
   "outputs": [
    {
     "name": "stdin",
     "output_type": "stream",
     "text": [
      "helloshivawhat is your age : 25\n"
     ]
    },
    {
     "name": "stdout",
     "output_type": "stream",
     "text": [
      "25\n"
     ]
    }
   ],
   "source": [
    "user = \"shiva\"\n",
    "age = input(\"hello\" + user + \"what is your age :\")\n",
    "print(age)\n"
   ]
  },
  {
   "cell_type": "code",
   "execution_count": 4,
   "id": "b88eef9e-379c-4337-a47c-8aabf719fd9d",
   "metadata": {},
   "outputs": [
    {
     "name": "stdin",
     "output_type": "stream",
     "text": [
      "May i know your name please : shiva\n",
      "what was your current age now : 25\n"
     ]
    }
   ],
   "source": [
    "user = input (\"May i know your name please :\")\n",
    "age = input(\"what was your current age now :\")\n"
   ]
  },
  {
   "cell_type": "code",
   "execution_count": 12,
   "id": "0f80f0f8-89ed-4af9-a271-830969759ba6",
   "metadata": {},
   "outputs": [
    {
     "name": "stdin",
     "output_type": "stream",
     "text": [
      "frist number : 6\n",
      "second number : 7\n"
     ]
    },
    {
     "name": "stdout",
     "output_type": "stream",
     "text": [
      "Total sum of two number is 13\n"
     ]
    }
   ],
   "source": [
    "a  =input(\"frist number :\")\n",
    "b =input(\"second number :\")\n",
    "total = int(a)+int(b)\n",
    "print (\"Total sum of two number is \"+str(total))"
   ]
  },
  {
   "cell_type": "code",
   "execution_count": 21,
   "id": "6493af8f-2f21-4877-a646-258d54d7a4d1",
   "metadata": {},
   "outputs": [
    {
     "name": "stdin",
     "output_type": "stream",
     "text": [
      "first number be :  9\n",
      "second number be :  9\n",
      "thrid number be :  7\n"
     ]
    },
    {
     "name": "stdout",
     "output_type": "stream",
     "text": [
      "average of the numbers 8.33\n"
     ]
    }
   ],
   "source": [
    "'''averge formule = sum of obersevation / number of oberverstion'''\n",
    "#c1 = input(\"how number number you need to averge :\" )\n",
    "c1 =3 \n",
    "a= input(\"first number be : \")\n",
    "b=input(\"second number be : \")\n",
    "c=input(\"thrid number be : \")\n",
    "total = int(a) + int (b) + int (c)\n",
    "average1 = round(total/int(c1),2)\n",
    "\n",
    "#c1 = count_of_the_numbers\n",
    "print(\"average of the numbers \"+str(average1))"
   ]
  },
  {
   "cell_type": "code",
   "execution_count": 32,
   "id": "50f47278-c782-4190-b901-8e387cd137a3",
   "metadata": {},
   "outputs": [
    {
     "name": "stdout",
     "output_type": "stream",
     "text": [
      "4 2\n"
     ]
    }
   ],
   "source": [
    "a =2 \n",
    "b=4\n",
    "a  = a + b\n",
    "b = a-b\n",
    "a = a-b\n",
    "print(a,b)\n"
   ]
  },
  {
   "cell_type": "code",
   "execution_count": 3,
   "id": "966d4e44-5a9c-4070-a502-6c18f96a7d2b",
   "metadata": {},
   "outputs": [
    {
     "name": "stdin",
     "output_type": "stream",
     "text": [
      "what was length of the brick : 9\n",
      "what was breath of the brick : 9\n"
     ]
    },
    {
     "name": "stdout",
     "output_type": "stream",
     "text": [
      "area of the rectanlge 81 m²\n"
     ]
    }
   ],
   "source": [
    "l = int (input(\"what was length of the brick :\"))\n",
    "b =int (input (\"what was breath of the brick :\"))\n",
    "area = l*b\n",
    "print (\"area of the rectanlge \"+str(area)+ \" m\\u00B2\") # to get sqaure to area use (\\u00B2)"
   ]
  },
  {
   "cell_type": "code",
   "execution_count": 21,
   "id": "4d0272a3-db70-439c-b446-4442765e6a50",
   "metadata": {},
   "outputs": [
    {
     "name": "stdin",
     "output_type": "stream",
     "text": [
      "please current fahrenheit temp : 0\n"
     ]
    },
    {
     "name": "stdout",
     "output_type": "stream",
     "text": [
      "as standrad temp in celsius :32.0\n"
     ]
    }
   ],
   "source": [
    "#Convert Celsius to Fahrenheit.\n",
    "# formula is F= (c*(9/5))+32\n",
    "c = int(input(\"please current fahrenheit temp :\"))\n",
    "f = (c*(9/5))+32\n",
    "print(\"as standrad temp in celsius :\"+str(f))"
   ]
  },
  {
   "cell_type": "code",
   "execution_count": 11,
   "id": "8be2c9af-291e-4d77-bd61-f3c7c92eedd8",
   "metadata": {},
   "outputs": [
    {
     "name": "stdin",
     "output_type": "stream",
     "text": [
      "please enter the number :  6\n"
     ]
    },
    {
     "name": "stdout",
     "output_type": "stream",
     "text": [
      "squre of the number 36\n"
     ]
    },
    {
     "name": "stdin",
     "output_type": "stream",
     "text": [
      "please enter the number :  6\n"
     ]
    },
    {
     "name": "stdout",
     "output_type": "stream",
     "text": [
      "cube of the number 216\n"
     ]
    }
   ],
   "source": [
    "# Find the square and cube of a number.\n",
    "a = int (input(\"please enter the number : \"))\n",
    "a = a**2\n",
    "print(\"squre of the number \"+str(a))\n",
    "b = int (input(\"please enter the number : \"))\n",
    "b = b**3\n",
    "print(\"cube of the number \"+str(b))"
   ]
  },
  {
   "cell_type": "code",
   "execution_count": null,
   "id": "e2e9a947-4e71-42ef-8843-399eba017101",
   "metadata": {},
   "outputs": [],
   "source": []
  }
 ],
 "metadata": {
  "kernelspec": {
   "display_name": "Python 3 (ipykernel)",
   "language": "python",
   "name": "python3"
  },
  "language_info": {
   "codemirror_mode": {
    "name": "ipython",
    "version": 3
   },
   "file_extension": ".py",
   "mimetype": "text/x-python",
   "name": "python",
   "nbconvert_exporter": "python",
   "pygments_lexer": "ipython3",
   "version": "3.13.5"
  }
 },
 "nbformat": 4,
 "nbformat_minor": 5
}
